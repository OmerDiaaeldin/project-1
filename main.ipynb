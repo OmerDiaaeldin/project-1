{
 "cells": [
  {
   "cell_type": "markdown",
   "id": "62f2ff32-22ea-43cc-9a63-a1a9bede7560",
   "metadata": {},
   "source": [
    "<h2>Install the necessary libraries and load the dataset</h2>"
   ]
  },
  {
   "cell_type": "code",
   "execution_count": 1,
   "id": "4b9b69f2-b096-497f-9478-a70f049ba6bb",
   "metadata": {},
   "outputs": [
    {
     "name": "stdout",
     "output_type": "stream",
     "text": [
      "Requirement already satisfied: pandas in c:\\users\\omer ismail\\appdata\\local\\programs\\python\\python312\\lib\\site-packages (2.2.3)\n",
      "Requirement already satisfied: numpy in c:\\users\\omer ismail\\appdata\\local\\programs\\python\\python312\\lib\\site-packages (2.1.1)\n",
      "Requirement already satisfied: matplotlib in c:\\users\\omer ismail\\appdata\\local\\programs\\python\\python312\\lib\\site-packages (3.10.0)\n",
      "Requirement already satisfied: seaborn in c:\\users\\omer ismail\\appdata\\local\\programs\\python\\python312\\lib\\site-packages (0.13.2)\n",
      "Requirement already satisfied: python-dateutil>=2.8.2 in c:\\users\\omer ismail\\appdata\\local\\programs\\python\\python312\\lib\\site-packages (from pandas) (2.9.0.post0)\n",
      "Requirement already satisfied: pytz>=2020.1 in c:\\users\\omer ismail\\appdata\\local\\programs\\python\\python312\\lib\\site-packages (from pandas) (2024.2)\n",
      "Requirement already satisfied: tzdata>=2022.7 in c:\\users\\omer ismail\\appdata\\local\\programs\\python\\python312\\lib\\site-packages (from pandas) (2024.2)\n",
      "Requirement already satisfied: contourpy>=1.0.1 in c:\\users\\omer ismail\\appdata\\local\\programs\\python\\python312\\lib\\site-packages (from matplotlib) (1.3.1)\n",
      "Requirement already satisfied: cycler>=0.10 in c:\\users\\omer ismail\\appdata\\local\\programs\\python\\python312\\lib\\site-packages (from matplotlib) (0.12.1)\n",
      "Requirement already satisfied: fonttools>=4.22.0 in c:\\users\\omer ismail\\appdata\\local\\programs\\python\\python312\\lib\\site-packages (from matplotlib) (4.55.8)\n",
      "Requirement already satisfied: kiwisolver>=1.3.1 in c:\\users\\omer ismail\\appdata\\local\\programs\\python\\python312\\lib\\site-packages (from matplotlib) (1.4.8)\n",
      "Requirement already satisfied: packaging>=20.0 in c:\\users\\omer ismail\\appdata\\local\\programs\\python\\python312\\lib\\site-packages (from matplotlib) (24.2)\n",
      "Requirement already satisfied: pillow>=8 in c:\\users\\omer ismail\\appdata\\local\\programs\\python\\python312\\lib\\site-packages (from matplotlib) (11.0.0)\n",
      "Requirement already satisfied: pyparsing>=2.3.1 in c:\\users\\omer ismail\\appdata\\local\\programs\\python\\python312\\lib\\site-packages (from matplotlib) (3.2.1)\n",
      "Requirement already satisfied: six>=1.5 in c:\\users\\omer ismail\\appdata\\local\\programs\\python\\python312\\lib\\site-packages (from python-dateutil>=2.8.2->pandas) (1.16.0)\n"
     ]
    },
    {
     "name": "stderr",
     "output_type": "stream",
     "text": [
      "\n",
      "[notice] A new release of pip is available: 24.2 -> 25.0\n",
      "[notice] To update, run: python.exe -m pip install --upgrade pip\n"
     ]
    }
   ],
   "source": [
    "!pip install pandas numpy matplotlib seaborn"
   ]
  },
  {
   "cell_type": "code",
   "execution_count": 2,
   "id": "9fa5af8e-4441-499f-a982-52d05fcfd5fa",
   "metadata": {},
   "outputs": [],
   "source": [
    "import pandas as pd\n",
    "import numpy as np\n",
    "import matplotlib.pyplot as plt\n",
    "import seaborn as sns"
   ]
  },
  {
   "cell_type": "code",
   "execution_count": 3,
   "id": "6fd0e2c6-2286-45b7-a9dd-5a60aab976dd",
   "metadata": {},
   "outputs": [],
   "source": [
    "df = pd.read_csv(\"Vader Dataset/Vader Dataset/Vader Dataset/train.csv\")\n",
    "dev = pd.read_csv(\"Vader Dataset/Vader Dataset/Vader Dataset/dev.csv\")"
   ]
  },
  {
   "cell_type": "markdown",
   "id": "1354beb6-8154-480f-ac8f-2272bae9c3d4",
   "metadata": {},
   "source": [
    "<h2>Analyze the training set</h2>"
   ]
  },
  {
   "cell_type": "code",
   "execution_count": 4,
   "id": "0c52f731-0aa3-47de-b29f-74b8b0077051",
   "metadata": {},
   "outputs": [
    {
     "data": {
      "text/html": [
       "<div>\n",
       "<style scoped>\n",
       "    .dataframe tbody tr th:only-of-type {\n",
       "        vertical-align: middle;\n",
       "    }\n",
       "\n",
       "    .dataframe tbody tr th {\n",
       "        vertical-align: top;\n",
       "    }\n",
       "\n",
       "    .dataframe thead th {\n",
       "        text-align: right;\n",
       "    }\n",
       "</style>\n",
       "<table border=\"1\" class=\"dataframe\">\n",
       "  <thead>\n",
       "    <tr style=\"text-align: right;\">\n",
       "      <th></th>\n",
       "      <th>desc_id</th>\n",
       "      <th>source_name</th>\n",
       "      <th>review_text</th>\n",
       "      <th>is_accessibility</th>\n",
       "      <th>cleanText</th>\n",
       "      <th>Vader Score</th>\n",
       "      <th>Vader Sentiment</th>\n",
       "    </tr>\n",
       "  </thead>\n",
       "  <tbody>\n",
       "    <tr>\n",
       "      <th>0</th>\n",
       "      <td>1</td>\n",
       "      <td>gp_AOqpTOE-4PtpSwSKzv8CF6EtR6seFSLwg-QQPTpQKze...</td>\n",
       "      <td>Excellent app.  Been using it for years on man...</td>\n",
       "      <td>Accessibility Review</td>\n",
       "      <td>excellent app using years many different phone...</td>\n",
       "      <td>0.8807</td>\n",
       "      <td>Positive</td>\n",
       "    </tr>\n",
       "    <tr>\n",
       "      <th>1</th>\n",
       "      <td>1</td>\n",
       "      <td>gp_AOqpTOGPKJI_1QuwFgSTcvd7BanaHdhJoLUXZDx8OVt...</td>\n",
       "      <td>I've used this on a different phone - but cur...</td>\n",
       "      <td>Accessibility Review</td>\n",
       "      <td>used different phone currently moto android re...</td>\n",
       "      <td>0.8271</td>\n",
       "      <td>Positive</td>\n",
       "    </tr>\n",
       "    <tr>\n",
       "      <th>2</th>\n",
       "      <td>1</td>\n",
       "      <td>lg_AOqpTOE5_m1p9SEdAbCNs_Nh_qN7EHMLnyPnytEW9NX...</td>\n",
       "      <td>Fantastic program! Instant search results and...</td>\n",
       "      <td>Accessibility Review</td>\n",
       "      <td>fantastic program instant search results fast ...</td>\n",
       "      <td>0.9670</td>\n",
       "      <td>Positive</td>\n",
       "    </tr>\n",
       "    <tr>\n",
       "      <th>3</th>\n",
       "      <td>1</td>\n",
       "      <td>lg_AOqpTOEyZAX-Z1qAqVvbqV8s6vJAttZvFBFixQTM_jW...</td>\n",
       "      <td>I'm using this on my mobile as well as on PC ...</td>\n",
       "      <td>Accessibility Review</td>\n",
       "      <td>using mobile well view offline dictionaries us...</td>\n",
       "      <td>0.9169</td>\n",
       "      <td>Positive</td>\n",
       "    </tr>\n",
       "    <tr>\n",
       "      <th>4</th>\n",
       "      <td>1</td>\n",
       "      <td>gp_AOqpTOE6SfnT_RCAb9w8AbMpASAbJDvsJIHxp_xuhKg...</td>\n",
       "      <td>Text reflow doesn't work. I want my money back...</td>\n",
       "      <td>Accessibility Review</td>\n",
       "      <td>text reflow work want money back</td>\n",
       "      <td>0.0772</td>\n",
       "      <td>Positive</td>\n",
       "    </tr>\n",
       "  </tbody>\n",
       "</table>\n",
       "</div>"
      ],
      "text/plain": [
       "   desc_id                                        source_name  \\\n",
       "0        1  gp_AOqpTOE-4PtpSwSKzv8CF6EtR6seFSLwg-QQPTpQKze...   \n",
       "1        1  gp_AOqpTOGPKJI_1QuwFgSTcvd7BanaHdhJoLUXZDx8OVt...   \n",
       "2        1  lg_AOqpTOE5_m1p9SEdAbCNs_Nh_qN7EHMLnyPnytEW9NX...   \n",
       "3        1  lg_AOqpTOEyZAX-Z1qAqVvbqV8s6vJAttZvFBFixQTM_jW...   \n",
       "4        1  gp_AOqpTOE6SfnT_RCAb9w8AbMpASAbJDvsJIHxp_xuhKg...   \n",
       "\n",
       "                                         review_text      is_accessibility  \\\n",
       "0  Excellent app.  Been using it for years on man...  Accessibility Review   \n",
       "1   I've used this on a different phone - but cur...  Accessibility Review   \n",
       "2   Fantastic program! Instant search results and...  Accessibility Review   \n",
       "3   I'm using this on my mobile as well as on PC ...  Accessibility Review   \n",
       "4  Text reflow doesn't work. I want my money back...  Accessibility Review   \n",
       "\n",
       "                                           cleanText  Vader Score  \\\n",
       "0  excellent app using years many different phone...       0.8807   \n",
       "1  used different phone currently moto android re...       0.8271   \n",
       "2  fantastic program instant search results fast ...       0.9670   \n",
       "3  using mobile well view offline dictionaries us...       0.9169   \n",
       "4                   text reflow work want money back       0.0772   \n",
       "\n",
       "  Vader Sentiment  \n",
       "0        Positive  \n",
       "1        Positive  \n",
       "2        Positive  \n",
       "3        Positive  \n",
       "4        Positive  "
      ]
     },
     "execution_count": 4,
     "metadata": {},
     "output_type": "execute_result"
    }
   ],
   "source": [
    "df.head()"
   ]
  },
  {
   "cell_type": "code",
   "execution_count": 5,
   "id": "7e5b8e50-c2cb-4831-9d7a-71691fab3d2b",
   "metadata": {},
   "outputs": [
    {
     "name": "stdout",
     "output_type": "stream",
     "text": [
      "<class 'pandas.core.frame.DataFrame'>\n",
      "RangeIndex: 1985 entries, 0 to 1984\n",
      "Data columns (total 7 columns):\n",
      " #   Column            Non-Null Count  Dtype  \n",
      "---  ------            --------------  -----  \n",
      " 0   desc_id           1985 non-null   int64  \n",
      " 1   source_name       1985 non-null   object \n",
      " 2   review_text       1984 non-null   object \n",
      " 3   is_accessibility  1985 non-null   object \n",
      " 4   cleanText         1982 non-null   object \n",
      " 5   Vader Score       1985 non-null   float64\n",
      " 6   Vader Sentiment   1985 non-null   object \n",
      "dtypes: float64(1), int64(1), object(5)\n",
      "memory usage: 108.7+ KB\n"
     ]
    }
   ],
   "source": [
    "df.info()"
   ]
  },
  {
   "cell_type": "code",
   "execution_count": 6,
   "id": "5f91b54a-835c-4ace-80e1-505a6bb37c51",
   "metadata": {},
   "outputs": [
    {
     "data": {
      "text/html": [
       "<div>\n",
       "<style scoped>\n",
       "    .dataframe tbody tr th:only-of-type {\n",
       "        vertical-align: middle;\n",
       "    }\n",
       "\n",
       "    .dataframe tbody tr th {\n",
       "        vertical-align: top;\n",
       "    }\n",
       "\n",
       "    .dataframe thead th {\n",
       "        text-align: right;\n",
       "    }\n",
       "</style>\n",
       "<table border=\"1\" class=\"dataframe\">\n",
       "  <thead>\n",
       "    <tr style=\"text-align: right;\">\n",
       "      <th></th>\n",
       "      <th>desc_id</th>\n",
       "      <th>Vader Score</th>\n",
       "    </tr>\n",
       "  </thead>\n",
       "  <tbody>\n",
       "    <tr>\n",
       "      <th>count</th>\n",
       "      <td>1985.0</td>\n",
       "      <td>1985.000000</td>\n",
       "    </tr>\n",
       "    <tr>\n",
       "      <th>mean</th>\n",
       "      <td>1.0</td>\n",
       "      <td>0.490518</td>\n",
       "    </tr>\n",
       "    <tr>\n",
       "      <th>std</th>\n",
       "      <td>0.0</td>\n",
       "      <td>0.429758</td>\n",
       "    </tr>\n",
       "    <tr>\n",
       "      <th>min</th>\n",
       "      <td>1.0</td>\n",
       "      <td>-0.930000</td>\n",
       "    </tr>\n",
       "    <tr>\n",
       "      <th>25%</th>\n",
       "      <td>1.0</td>\n",
       "      <td>0.250000</td>\n",
       "    </tr>\n",
       "    <tr>\n",
       "      <th>50%</th>\n",
       "      <td>1.0</td>\n",
       "      <td>0.624900</td>\n",
       "    </tr>\n",
       "    <tr>\n",
       "      <th>75%</th>\n",
       "      <td>1.0</td>\n",
       "      <td>0.836000</td>\n",
       "    </tr>\n",
       "    <tr>\n",
       "      <th>max</th>\n",
       "      <td>1.0</td>\n",
       "      <td>0.989900</td>\n",
       "    </tr>\n",
       "  </tbody>\n",
       "</table>\n",
       "</div>"
      ],
      "text/plain": [
       "       desc_id  Vader Score\n",
       "count   1985.0  1985.000000\n",
       "mean       1.0     0.490518\n",
       "std        0.0     0.429758\n",
       "min        1.0    -0.930000\n",
       "25%        1.0     0.250000\n",
       "50%        1.0     0.624900\n",
       "75%        1.0     0.836000\n",
       "max        1.0     0.989900"
      ]
     },
     "execution_count": 6,
     "metadata": {},
     "output_type": "execute_result"
    }
   ],
   "source": [
    "df.describe()"
   ]
  },
  {
   "cell_type": "code",
   "execution_count": 7,
   "id": "e7667cec-99e8-4b4f-b6b2-57fdbc93856e",
   "metadata": {},
   "outputs": [
    {
     "data": {
      "text/plain": [
       "(array([ 20.,  38.,  59.,  55., 223.,  88., 185., 261., 463., 593.]),\n",
       " array([-0.93   , -0.73801, -0.54602, -0.35403, -0.16204,  0.02995,\n",
       "         0.22194,  0.41393,  0.60592,  0.79791,  0.9899 ]),\n",
       " <BarContainer object of 10 artists>)"
      ]
     },
     "execution_count": 7,
     "metadata": {},
     "output_type": "execute_result"
    },
    {
     "data": {
      "image/png": "[encoded data removed]",
      "text/plain": [
       "<Figure size 640x480 with 1 Axes>"
      ]
     },
     "metadata": {},
     "output_type": "display_data"
    }
   ],
   "source": [
    "plt.hist(df['Vader Score'])"
   ]
  },
  {
   "cell_type": "code",
   "execution_count": 8,
   "id": "ac1423a5-1325-4cb9-9a59-19e78308d07a",
   "metadata": {},
   "outputs": [
    {
     "data": {
      "text/plain": [
       "(array([1590.,    0.,    0.,    0.,    0.,  214.,    0.,    0.,    0.,\n",
       "         181.]),\n",
       " array([0. , 0.2, 0.4, 0.6, 0.8, 1. , 1.2, 1.4, 1.6, 1.8, 2. ]),\n",
       " <BarContainer object of 10 artists>)"
      ]
     },
     "execution_count": 8,
     "metadata": {},
     "output_type": "execute_result"
    },
    {
     "data": {
      "image/png": "[encoded data removed]",
      "text/plain": [
       "<Figure size 640x480 with 1 Axes>"
      ]
     },
     "metadata": {},
     "output_type": "display_data"
    }
   ],
   "source": [
    "plt.hist(df['Vader Sentiment'])"
   ]
  },
  {
   "cell_type": "code",
   "execution_count": 9,
   "id": "e1cb831a-0504-48e7-afe3-f0be28dfa165",
   "metadata": {},
   "outputs": [
    {
     "data": {
      "text/plain": [
       "(array([ 10.,   7.,  17.,  20.,  18.,  19.,  63.,  91., 140., 209.]),\n",
       " array([-0.9313 , -0.73896, -0.54662, -0.35428, -0.16194,  0.0304 ,\n",
       "         0.22274,  0.41508,  0.60742,  0.79976,  0.9921 ]),\n",
       " <BarContainer object of 10 artists>)"
      ]
     },
     "execution_count": 9,
     "metadata": {},
     "output_type": "execute_result"
    },
    {
     "data": {
      "image/png": "[encoded data removed]",
      "text/plain": [
       "<Figure size 640x480 with 1 Axes>"
      ]
     },
     "metadata": {},
     "output_type": "display_data"
    }
   ],
   "source": [
    "plt.hist(dev['Vader Score'])"
   ]
  },
  {
   "cell_type": "markdown",
   "id": "0c9192fa-872e-4e48-8ee8-abfee4df4728",
   "metadata": {},
   "source": [
    "<h1>Preprocess</h1>"
   ]
  },
  {
   "cell_type": "markdown",
   "id": "1808e60c-f48d-4da2-8078-e895c8cc56c0",
   "metadata": {},
   "source": [
    "all preprocessing steps will be applied to both datasets"
   ]
  },
  {
   "cell_type": "markdown",
   "id": "db6d1e4d-bba6-4d5a-9ff0-8c25e9634421",
   "metadata": {},
   "source": [
    "<h3>1. remove all neutral occurences from df</h3>"
   ]
  },
  {
   "cell_type": "code",
   "execution_count": 10,
   "id": "ec99cc0f-343e-4583-ab0d-d87c67487dae",
   "metadata": {},
   "outputs": [],
   "source": [
    "df.drop(df[df['Vader Sentiment'] == 'Neutral'].index, inplace = True)"
   ]
  },
  {
   "cell_type": "markdown",
   "id": "a2e9e938-5afd-4113-8b69-5fb3afa221c7",
   "metadata": {},
   "source": [
    "<h3>2. convert the vander sentiment to a numerical value</h3>"
   ]
  },
  {
   "cell_type": "code",
   "execution_count": 11,
   "id": "c9b307ff-debf-471a-a18c-9009c7825b88",
   "metadata": {},
   "outputs": [
    {
     "name": "stderr",
     "output_type": "stream",
     "text": [
      "C:\\Users\\Omer Ismail\\AppData\\Local\\Temp\\ipykernel_12360\\2350983691.py:1: FutureWarning: Downcasting behavior in `replace` is deprecated and will be removed in a future version. To retain the old behavior, explicitly call `result.infer_objects(copy=False)`. To opt-in to the future behavior, set `pd.set_option('future.no_silent_downcasting', True)`\n",
      "  df.replace({'Positive': 1, 'Negative': 0}, inplace=True)\n"
     ]
    }
   ],
   "source": [
    "df.replace({'Positive': 1, 'Negative': 0}, inplace=True)"
   ]
  },
  {
   "cell_type": "markdown",
   "id": "515cbb92-fcc7-4775-8ec3-76c60f097b7a",
   "metadata": {},
   "source": [
    "<h3>3. delete irrelevant columns</h3>"
   ]
  },
  {
   "cell_type": "code",
   "execution_count": 12,
   "id": "4581dacf-8450-4e7d-a902-0df444c94780",
   "metadata": {},
   "outputs": [],
   "source": [
    "try:\n",
    "    df.drop(['desc_id', 'source_name', 'review_text', 'is_accessibility',\n",
    "       'cleanText' ], axis=1, inplace=True)\n",
    "except:\n",
    "    pass\n",
    "\n",
    "\n",
    "try:\n",
    "    indexes = dev['desc_id']\n",
    "    dev.drop(['desc_id', 'source_name', 'review_text', 'is_accessibility',\n",
    "       'cleanText' ], axis=1, inplace=True)\n",
    "except:\n",
    "    pass"
   ]
  },
  {
   "cell_type": "markdown",
   "id": "6b38d98b-a60d-4323-9074-79927004836d",
   "metadata": {},
   "source": [
    "<h3>4. shuffle and split df to train and val</h3>"
   ]
  },
  {
   "cell_type": "code",
   "execution_count": 13,
   "id": "73f14a9d-2e17-45d9-8873-e09ebea5a165",
   "metadata": {},
   "outputs": [],
   "source": [
    "df = df.sample(frac= 1)\n",
    "split = 0.7\n",
    "train = df.iloc[:int(df.shape[0]*0.7),:]\n",
    "val = df.iloc[int(df.shape[0]*0.7):,:]"
   ]
  },
  {
   "cell_type": "markdown",
   "id": "9254ceb8-5292-47d3-85a1-a47cb7d1d49c",
   "metadata": {},
   "source": [
    "<h1>Create the model</h1>"
   ]
  },
  {
   "cell_type": "code",
   "execution_count": 72,
   "id": "a217f168-8e7e-4080-9a52-f33910ce2d4f",
   "metadata": {},
   "outputs": [],
   "source": [
    "class logistic_regression:\n",
    "    def __init__(self, n: int):\n",
    "        self.n = n\n",
    "        self.w = np.zeros(shape = (n,1), dtype=float)\n",
    "        self.b = 0\n",
    "\n",
    "    def sigmoid(self, x: np.array):\n",
    "        return 1/(1+np.exp(-x))\n",
    "\n",
    "    def loss(self, y_true: np.array, y_pred: np.array):\n",
    "        y_true = y_true.squeeze()\n",
    "        y_pred = y_pred.squeeze()\n",
    "\n",
    "        return -1*np.average(y_true*np.log(y_pred)+ (1-y_true)*np.log(1-y_pred))\n",
    "\n",
    "    def predict(self, X:pd.Series):\n",
    "        X = np.array(X, ndmin = 2)\n",
    "\n",
    "        z = self.w.T @ X + self.b\n",
    "        a = self.sigmoid(z)\n",
    "        prediction = (a >= 0.5)\n",
    "        print(np.sum(prediction))\n",
    "        return prediction\n",
    "\n",
    "    def accuracy(self, y_true: np.array, y_pred: np.array):\n",
    "        # print(y_pred - y_true)\n",
    "        return (np.average(y_true == y_pred))\n",
    "        \n",
    "\n",
    "    def fit(self, X: pd.Series, y: pd.Series, X_val: pd.Series, y_val: pd.Series, epochs:int, learning_rate = 0.001):\n",
    "        X = np.array(X, ndmin = 2)\n",
    "        y = np.array(y)\n",
    "\n",
    "        X_val = np.array(X_val, ndmin = 2)\n",
    "        y_val = np.array(y_val)\n",
    "\n",
    "        history = {\n",
    "            'train': {\n",
    "                'accuracy': [],\n",
    "                'loss': []\n",
    "            },\n",
    "            'val': {\n",
    "                'accuracy': [],\n",
    "               'loss': []\n",
    "            }\n",
    "        }\n",
    "\n",
    "\n",
    "        for i in range(epochs):\n",
    "            # print(i)\n",
    "            z = self.w.T @ X + self.b\n",
    "            # print(z)\n",
    "            a = self.sigmoid(z) # also the prediction\n",
    "            # print(a)\n",
    "            J_train = self.loss(y, a)\n",
    "            # print(J_train)\n",
    "            history['train']['loss'].append(J_train.item())\n",
    "\n",
    "            train_acc = self.accuracy(y, self.predict(X))\n",
    "            history['train']['accuracy'].append(train_acc)\n",
    "\n",
    "            dz = a - y\n",
    "            # print(dz)\n",
    "            dw = np.average(X @ dz.T,axis=0)\n",
    "            # print(dw)\n",
    "            db = np.average(dz.T, axis=0)\n",
    "            # print(db)\n",
    "            \n",
    "\n",
    "            self.w -= learning_rate*dw\n",
    "            self.b -= learning_rate*db\n",
    "\n",
    "            z_val = self.w.T @ X_val + self.b\n",
    "            a_val = self.sigmoid(z_val) # also the prediction\n",
    "            J_val = self.loss(y_val, a_val)\n",
    "            history['val']['loss'].append(J_val.item())\n",
    "\n",
    "            val_acc = self.accuracy(y_val, self.predict(X_val))\n",
    "            history['val']['accuracy'].append(val_acc)\n",
    "        return history\n",
    "\n",
    "            \n",
    "                       \n",
    "\n",
    "            \n",
    "        "
   ]
  },
  {
   "cell_type": "code",
   "execution_count": 73,
   "id": "011ad24f-c13e-4b8b-a19a-79cf119cb2f0",
   "metadata": {},
   "outputs": [],
   "source": [
    "t = logistic_regression(1)"
   ]
  },
  {
   "cell_type": "code",
   "execution_count": 74,
   "id": "d735ccd7-ea9a-4006-b762-fe34e361ca2b",
   "metadata": {},
   "outputs": [
    {
     "name": "stdout",
     "output_type": "stream",
     "text": [
      "1262\n",
      "477\n",
      "1113\n",
      "477\n",
      "1113\n",
      "477\n",
      "1113\n",
      "477\n",
      "1113\n",
      "477\n",
      "1113\n",
      "477\n",
      "1113\n",
      "477\n",
      "1113\n",
      "477\n",
      "1113\n",
      "477\n",
      "1113\n",
      "477\n"
     ]
    }
   ],
   "source": [
    "h = t.fit(train['Vader Score'], train['Vader Sentiment'], val['Vader Score'], val['Vader Sentiment'],  10)"
   ]
  },
  {
   "cell_type": "code",
   "execution_count": 102,
   "id": "b64cce2b-211a-4c4c-a4e0-01c62ab0f9df",
   "metadata": {},
   "outputs": [
    {
     "data": {
      "image/png": "[encoded data removed]",
      "text/plain": [
       "<Figure size 640x480 with 2 Axes>"
      ]
     },
     "metadata": {},
     "output_type": "display_data"
    }
   ],
   "source": [
    "plt.subplot(2, 1,1)\n",
    "plt.plot(h['train']['loss'], label=\"train\")\n",
    "plt.plot(h['val']['loss'], label=\"val\")\n",
    "plt.xlabel(\"epoch\")\n",
    "plt.xlim(-1)\n",
    "plt.ylabel(\"loss\")\n",
    "plt.ylim(0, max(h['train']['loss'])*1.1)\n",
    "plt.title(\"loss vs epoch\")\n",
    "plt.legend()\n",
    "\n",
    "plt.subplot(2, 1,2)\n",
    "plt.plot(h['train']['accuracy'], label=\"train\")\n",
    "plt.plot(h['val']['accuracy'], label=\"val\")\n",
    "plt.ylim(0, max(h['train']['accuracy'])*1.1)\n",
    "plt.xlim(-1)\n",
    "plt.xlabel(\"epoch\")\n",
    "plt.ylabel(\"accuracy\")\n",
    "plt.title(\"accuracy vs epoch\")\n",
    "plt.legend()\n",
    "\n",
    "plt.show()"
   ]
  },
  {
   "cell_type": "code",
   "execution_count": 76,
   "id": "2b01d9b9-229b-4143-b102-03db76ae3283",
   "metadata": {},
   "outputs": [
    {
     "name": "stdout",
     "output_type": "stream",
     "text": [
      "1113\n"
     ]
    },
    {
     "data": {
      "text/plain": [
       "array([ True, False,  True, ...,  True,  True,  True])"
      ]
     },
     "execution_count": 76,
     "metadata": {},
     "output_type": "execute_result"
    }
   ],
   "source": [
    "t.predict(train['Vader Score'])[0]"
   ]
  },
  {
   "cell_type": "code",
   "execution_count": null,
   "id": "ce0a4f80-e816-4063-bf08-5209780e093c",
   "metadata": {},
   "outputs": [],
   "source": []
  }
 ],
 "metadata": {
  "kernelspec": {
   "display_name": "Python 3 (ipykernel)",
   "language": "python",
   "name": "python3"
  },
  "language_info": {
   "codemirror_mode": {
    "name": "ipython",
    "version": 3
   },
   "file_extension": ".py",
   "mimetype": "text/x-python",
   "name": "python",
   "nbconvert_exporter": "python",
   "pygments_lexer": "ipython3",
   "version": "3.12.6"
  }
 },
 "nbformat": 4,
 "nbformat_minor": 5
}
